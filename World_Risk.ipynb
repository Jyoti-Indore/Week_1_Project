{
  "nbformat": 4,
  "nbformat_minor": 0,
  "metadata": {
    "colab": {
      "provenance": []
    },
    "kernelspec": {
      "name": "python3",
      "display_name": "Python 3"
    },
    "language_info": {
      "name": "python"
    }
  },
  "cells": [
    {
      "cell_type": "code",
      "source": [
        "# 1. Import necessary libraries\n",
        "import pandas as pd\n",
        "\n",
        "# 2. Load the dataset\n",
        "df = pd.read_csv('world_risk_index.csv')  # adjust filename as necessary"
      ],
      "metadata": {
        "id": "AJ56So2G3eja"
      },
      "execution_count": 3,
      "outputs": []
    },
    {
      "cell_type": "code",
      "source": [
        "print(df.info())               # Data types and non-null counts"
      ],
      "metadata": {
        "colab": {
          "base_uri": "https://localhost:8080/"
        },
        "id": "X355ebQT4Uhi",
        "outputId": "f3059794-8fdc-46d5-f311-dbc989c14c19"
      },
      "execution_count": 4,
      "outputs": [
        {
          "output_type": "stream",
          "name": "stdout",
          "text": [
            "<class 'pandas.core.frame.DataFrame'>\n",
            "RangeIndex: 1917 entries, 0 to 1916\n",
            "Data columns (total 12 columns):\n",
            " #   Column                        Non-Null Count  Dtype  \n",
            "---  ------                        --------------  -----  \n",
            " 0   Region                        1917 non-null   object \n",
            " 1   WRI                           1917 non-null   float64\n",
            " 2   Exposure                      1917 non-null   float64\n",
            " 3   Vulnerability                 1917 non-null   float64\n",
            " 4   Susceptibility                1917 non-null   float64\n",
            " 5   Lack of Coping Capabilities   1917 non-null   float64\n",
            " 6    Lack of Adaptive Capacities  1916 non-null   float64\n",
            " 7   Year                          1917 non-null   int64  \n",
            " 8   Exposure Category             1917 non-null   object \n",
            " 9   WRI Category                  1916 non-null   object \n",
            " 10  Vulnerability Category        1913 non-null   object \n",
            " 11  Susceptibility Category       1917 non-null   object \n",
            "dtypes: float64(6), int64(1), object(5)\n",
            "memory usage: 179.8+ KB\n",
            "None\n"
          ]
        }
      ]
    },
    {
      "cell_type": "code",
      "source": [
        "print(df.describe(include='all'))  # Statistical summary of numeric and object columns"
      ],
      "metadata": {
        "colab": {
          "base_uri": "https://localhost:8080/"
        },
        "id": "NJuGv7Xd4d7A",
        "outputId": "69bd9729-f917-4ee4-c7c1-232fa61f337e"
      },
      "execution_count": 5,
      "outputs": [
        {
          "output_type": "stream",
          "name": "stdout",
          "text": [
            "       Region          WRI     Exposure  Vulnerability  Susceptibility  \\\n",
            "count    1917  1917.000000  1917.000000    1917.000000     1917.000000   \n",
            "unique    306          NaN          NaN            NaN             NaN   \n",
            "top     Malta          NaN          NaN            NaN             NaN   \n",
            "freq       11          NaN          NaN            NaN             NaN   \n",
            "mean      NaN     7.551763    15.388336      48.075759       30.739431   \n",
            "std       NaN     5.553257    10.240135      13.835666       15.667030   \n",
            "min       NaN     0.020000     0.050000      14.310000        8.260000   \n",
            "25%       NaN     3.740000    10.160000      37.040000       17.790000   \n",
            "50%       NaN     6.520000    12.760000      47.100000       25.400000   \n",
            "75%       NaN     9.400000    16.450000      60.060000       42.640000   \n",
            "max       NaN    56.710000    99.880000      76.470000       70.830000   \n",
            "\n",
            "        Lack of Coping Capabilities   Lack of Adaptive Capacities  \\\n",
            "count                   1917.000000                   1916.000000   \n",
            "unique                          NaN                           NaN   \n",
            "top                             NaN                           NaN   \n",
            "freq                            NaN                           NaN   \n",
            "mean                      70.438289                     43.090511   \n",
            "std                       15.038854                     13.551156   \n",
            "min                       31.590000                     11.160000   \n",
            "25%                       59.330000                     33.192500   \n",
            "50%                       74.230000                     43.080000   \n",
            "75%                       83.000000                     53.065000   \n",
            "max                       94.360000                     76.110000   \n",
            "\n",
            "               Year Exposure Category WRI Category Vulnerability Category  \\\n",
            "count   1917.000000              1917         1916                   1913   \n",
            "unique          NaN                 5            5                      5   \n",
            "top             NaN          Very Low     Very Low               Very Low   \n",
            "freq            NaN               393          393                    386   \n",
            "mean    2016.049557               NaN          NaN                    NaN   \n",
            "std        3.182045               NaN          NaN                    NaN   \n",
            "min     2011.000000               NaN          NaN                    NaN   \n",
            "25%     2013.000000               NaN          NaN                    NaN   \n",
            "50%     2016.000000               NaN          NaN                    NaN   \n",
            "75%     2019.000000               NaN          NaN                    NaN   \n",
            "max     2021.000000               NaN          NaN                    NaN   \n",
            "\n",
            "       Susceptibility Category  \n",
            "count                     1917  \n",
            "unique                       5  \n",
            "top                   Very Low  \n",
            "freq                       390  \n",
            "mean                       NaN  \n",
            "std                        NaN  \n",
            "min                        NaN  \n",
            "25%                        NaN  \n",
            "50%                        NaN  \n",
            "75%                        NaN  \n",
            "max                        NaN  \n"
          ]
        }
      ]
    },
    {
      "cell_type": "code",
      "source": [
        "print(df.isnull().sum())      # Count of missing values per column"
      ],
      "metadata": {
        "colab": {
          "base_uri": "https://localhost:8080/"
        },
        "id": "zeVs4vyW4kEh",
        "outputId": "3347720d-3ef5-4166-ca52-2d30b04a1933"
      },
      "execution_count": 6,
      "outputs": [
        {
          "output_type": "stream",
          "name": "stdout",
          "text": [
            "Region                          0\n",
            "WRI                             0\n",
            "Exposure                        0\n",
            "Vulnerability                   0\n",
            "Susceptibility                  0\n",
            "Lack of Coping Capabilities     0\n",
            " Lack of Adaptive Capacities    1\n",
            "Year                            0\n",
            "Exposure Category               0\n",
            "WRI Category                    1\n",
            "Vulnerability Category          4\n",
            "Susceptibility Category         0\n",
            "dtype: int64\n"
          ]
        }
      ]
    }
  ]
}